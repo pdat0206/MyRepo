{
 "cells": [
  {
   "cell_type": "markdown",
   "id": "5e27f0d6-94ab-472c-a120-c0a57016b653",
   "metadata": {},
   "source": [
    "# Data Science Tools and Ecosystem"
   ]
  },
  {
   "cell_type": "markdown",
   "id": "0d06fdcc-1226-40b5-ba68-20121ccd2432",
   "metadata": {},
   "source": [
    "In this notebook, Data Science Tools and Ecosystem are summarized.\n",
    "\n",
    "\n"
   ]
  },
  {
   "cell_type": "markdown",
   "id": "2a42b77e-db23-43bd-8bc7-7dc457d73e4c",
   "metadata": {},
   "source": [
    "**Objectives:**\n",
    "- List popular languages for Data Science.\n",
    "- List popular libraries for Data Science.\n",
    "- Create markdown cells in Jupyter Notebook.\n",
    "- The kernel executes the cells of code contained in the Notebook."
   ]
  },
  {
   "cell_type": "markdown",
   "id": "61b7c53b-dad1-48a8-a474-adb175e17f91",
   "metadata": {},
   "source": [
    "Some of the popular languages that Data Scientists use are:\n",
    "1. Python\n",
    "2. R\n",
    "3. SQl\n",
    "4. Julia\n"
   ]
  },
  {
   "cell_type": "markdown",
   "id": "9e5f3100-8ddc-42ac-894d-7b222eef649e",
   "metadata": {},
   "source": [
    "Some of the commonly used libraries used by Data Scientists include:\r\n",
    "1. Numpy\r\n",
    "2. Pandas\r\n",
    "3. Matplotlib\r\n",
    "4. Scikit-learnC\n",
    "5. caret"
   ]
  },
  {
   "cell_type": "markdown",
   "id": "f6138d99-b085-4ea1-9c7f-5fa99d47dcfd",
   "metadata": {},
   "source": [
    "|Data Sciece Tools|\n",
    " -----------------\n",
    "|Jupyter          |\n",
    "|RStudio          |\n",
    "|Spyder           |"
   ]
  },
  {
   "cell_type": "markdown",
   "id": "3af54f36-df6a-429d-9d64-f699f0769b8c",
   "metadata": {},
   "source": [
    "### Below are a few examples of evaluating arithmetic expressions in Python\n"
   ]
  },
  {
   "cell_type": "code",
   "execution_count": 12,
   "id": "64afe9af-166f-4166-8f5b-ba6c3e979976",
   "metadata": {},
   "outputs": [
    {
     "data": {
      "text/plain": [
       "17"
      ]
     },
     "execution_count": 12,
     "metadata": {},
     "output_type": "execute_result"
    }
   ],
   "source": [
    "# This a simple arithmetic expression to mutiply then add integers\n",
    "(3*4)+5"
   ]
  },
  {
   "cell_type": "code",
   "execution_count": 16,
   "id": "f90f9770-ed63-4cea-88fc-9f3762daadd2",
   "metadata": {},
   "outputs": [
    {
     "name": "stdout",
     "output_type": "stream",
     "text": [
      "3.3333333333333335\n"
     ]
    }
   ],
   "source": [
    "# This will convert 200 minutes to hours by diving by 60\n",
    "minutes = 200\n",
    "hours = minutes / 60\n",
    "print(hours)"
   ]
  },
  {
   "cell_type": "markdown",
   "id": "0facfd33-e6a7-4738-b77c-a426648a4b14",
   "metadata": {},
   "source": [
    "## Author\n",
    "Pham Tien Dat"
   ]
  }
 ],
 "metadata": {
  "kernelspec": {
   "display_name": "Python 3 (ipykernel)",
   "language": "python",
   "name": "python3"
  },
  "language_info": {
   "codemirror_mode": {
    "name": "ipython",
    "version": 3
   },
   "file_extension": ".py",
   "mimetype": "text/x-python",
   "name": "python",
   "nbconvert_exporter": "python",
   "pygments_lexer": "ipython3",
   "version": "3.12.4"
  }
 },
 "nbformat": 4,
 "nbformat_minor": 5
}
